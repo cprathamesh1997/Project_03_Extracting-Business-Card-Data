{
  "nbformat": 4,
  "nbformat_minor": 0,
  "metadata": {
    "colab": {
      "provenance": []
    },
    "kernelspec": {
      "name": "python3",
      "display_name": "Python 3"
    },
    "language_info": {
      "name": "python"
    }
  },
  "cells": [
    {
      "cell_type": "markdown",
      "source": [
        "# **BizCardX: Extracting Business Card Data with OCR**"
      ],
      "metadata": {
        "id": "VzC6GH9Bj9jQ"
      }
    },
    {
      "cell_type": "markdown",
      "source": [
        "***INSTALL THE REQUIRED PACKAGES AND IMPORT REQUIRED LIBRARIES***"
      ],
      "metadata": {
        "id": "1EHHqAHukPQ7"
      }
    },
    {
      "cell_type": "code",
      "source": [
        "!pip install opencv-python\n",
        "!pip install pytesseract\n",
        "!pip install easyocr\n",
        "!pip install streamlit\n",
        "!pip install pyngrok"
      ],
      "metadata": {
        "id": "FpKAen74rPbr"
      },
      "execution_count": null,
      "outputs": []
    },
    {
      "cell_type": "code",
      "source": [
        "!./ngrok authtokens 2Lb7nKJVe0k542wdclYWapnyfux_4nJurZjAiNAWGPRshYfda"
      ],
      "metadata": {
        "id": "_JNmpuGctUTu",
        "colab": {
          "base_uri": "https://localhost:8080/"
        },
        "outputId": "7ee3c58c-63dc-4997-a660-ded0967f08ba"
      },
      "execution_count": 20,
      "outputs": [
        {
          "output_type": "stream",
          "name": "stdout",
          "text": [
            "/bin/bash: ./ngrok: No such file or directory\n"
          ]
        }
      ]
    },
    {
      "cell_type": "code",
      "source": [
        "# For accessing app via link\n",
        "from pyngrok import ngrok \n",
        "public_p_url = ngrok.connect(port='8501')"
      ],
      "metadata": {
        "id": "pM74tGYktD39"
      },
      "execution_count": null,
      "outputs": []
    },
    {
      "cell_type": "code",
      "source": [
        "%%writefile streamlit_app.py\n",
        "\n",
        "import streamlit as st\n",
        "import easyocr\n",
        "import sqlite3\n",
        "import cv2\n",
        "import numpy as np \n",
        "import pandas as pd\n",
        "\n",
        "\n",
        "# Connect to sqlite3 database\n",
        "conn = sqlite3.connect('card_info.db')\n",
        "c = conn.cursor()\n",
        "\n",
        "\n",
        "# Create a table to store the business card information\n",
        "c.execute('''CREATE TABLE IF NOT EXISTS Business_card \n",
        "              (id INT AUTO_INCREMENT PRIMARY KEY,\n",
        "              name TEXT,\n",
        "              position TEXT,\n",
        "              address TEXT,\n",
        "              pincode VARCHAR(25),\n",
        "              phone VARCHAR(25),\n",
        "              email TEXT,\n",
        "              website TEXT,\n",
        "              company TEXT\n",
        "              )''')\n",
        "\n",
        "# Using easyOCR for reading data\n",
        "reader = easyocr.Reader(['en'])\n",
        "\n",
        "\n",
        "# Set the title and page icon\n",
        "st.set_page_config(page_title=\"BIZCARD-X\", page_icon=\":credit_card:\")\n",
        "\n",
        "\n",
        "# Title \n",
        "st.title(\":red[OCR Tool For Extracting Card Data:credit_card:]\")\n",
        "\n",
        "\n",
        "# Create a file uploader\n",
        "file_upload = st.file_uploader(\":orange[UPLOAD CARD IMAGE>>>:credit_card:]\", type=[\"jpg\", \"jpeg\", \"png\"])\n",
        "\n",
        "\n",
        "# Create a sidebar menu with options to Add, Show, Update business card information\n",
        "st.sidebar.title(\":red[BIZCARD-X:star:]\")\n",
        "st.sidebar.image(\"https://miro.medium.com/v2/resize:fit:1400/0*V7NS3dvYQLVi6DFL.gif\", width=300)\n",
        "\n",
        "\n",
        "m = ['Insert Data', 'Show Data', 'Edit Card Info']\n",
        "choose = st.sidebar.selectbox(\"Select An Option\", m)\n",
        "\n",
        "\n",
        "if choose == 'Insert Data':\n",
        "    if file_upload is not None:\n",
        "        \n",
        "        # Read the image using OpenCV\n",
        "        image = cv2.imdecode(np.fromstring(file_upload.read(), np.uint8), 1)\n",
        "        \n",
        "        # Display the uploaded image\n",
        "        st.image(image, caption='Uploaded Successfully', use_column_width=True)\n",
        "        \n",
        "        # Button to extract information from the image\n",
        "        if st.button('Extract Data And Append'):\n",
        "            bsc = reader.readtext(image, detail=0)\n",
        "            text = \"\\n\".join(bsc)\n",
        "            \n",
        "            # Insert the extracted information and image into the database\n",
        "            sql_data = \"INSERT INTO Business_card (name, position, address, pincode, phone, email, website, company) VALUES ( ?, ?, ?, ?, ?, ?, ?, ?)\"\n",
        "            values = (bsc[0], bsc[1], bsc[2], bsc[3], bsc[4], bsc[5], bsc[6], bsc[7])\n",
        "            c.execute(sql_data, values)\n",
        "            conn.commit()\n",
        "            \n",
        "            # Display message\n",
        "            st.success(\"Card Data Inserted\")\n",
        "\n",
        "elif choose == 'Show Data':\n",
        "    \n",
        "    # Display the stored business card information\n",
        "    c.execute(\"SELECT * FROM Business_card\")\n",
        "    result = c.fetchall()\n",
        "    df = pd.DataFrame(result, columns=['id','name', 'position', 'address', 'pincode', 'phone', 'email', 'website', 'company'])\n",
        "    st.write(df)\n",
        "\n",
        "\n",
        "elif choose == 'Edit Card Info':\n",
        "    \n",
        "    # Create a dropdown menu to select a business card to edit\n",
        "    c.execute(\"SELECT id, name FROM Business_card\")\n",
        "    result = c.fetchall()\n",
        "    business_cards = {}\n",
        "    \n",
        "    for row in result:\n",
        "        business_cards[row[1]] = row[0]\n",
        "    select_card_name = st.selectbox(\"Select Card To Edit\", list(business_cards.keys()))\n",
        "    \n",
        "    # Get the current information for the selected business card\n",
        "    c.execute(\"SELECT * FROM Business_card WHERE name=?\", (select_card_name,))\n",
        "    result = c.fetchone()\n",
        "\n",
        "    # Get edited information \n",
        "    name = st.text_input(\"Name\", result[1])\n",
        "    position = st.text_input(\"Position\", result[2])\n",
        "    address = st.text_input(\"Address\", result[3])\n",
        "    pincode = st.text_input(\"Pincode\", result[4])\n",
        "    phone = st.text_input(\"Phone\", result[5])\n",
        "    email = st.text_input(\"Email\", result[6])\n",
        "    website = st.text_input(\"Website\", result[7])\n",
        "    company = st.text_input(\"Company_Name\", result[8])\n",
        "\n",
        "    \n",
        "    # Create a button to update the business card\n",
        "    if st.button(\"Edit Card Data\"):\n",
        "        \n",
        "        # Update the information for the selected business card in the database\n",
        "        c.execute(\"UPDATE Business_card SET name=?, position=?, address=?, pincode=?, phone=?, email=?, website=?, company=? WHERE name=?\", \n",
        "                             (name, position, address, pincode, phone, email, website, company, select_card_name))\n",
        "        conn.commit()\n",
        "        st.success(\"Card Data Updated\")\n"
      ],
      "metadata": {
        "id": "g9dELv_I5Rql"
      },
      "execution_count": null,
      "outputs": []
    },
    {
      "cell_type": "code",
      "source": [
        "!streamlit run /content/streamlit_app.py & npx localtunnel -p 8501"
      ],
      "metadata": {
        "id": "17YPg9V1MZ_J"
      },
      "execution_count": null,
      "outputs": []
    }
  ]
}
